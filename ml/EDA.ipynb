{
 "cells": [
  {
   "cell_type": "code",
   "execution_count": 54,
   "metadata": {},
   "outputs": [],
   "source": [
    "import pandas as pd\n",
    "import numpy as np\n",
    "import seaborn as sns\n",
    "import matplotlib.pyplot as plt\n",
    "\n",
    "from sklearn import preprocessing"
   ]
  },
  {
   "cell_type": "markdown",
   "metadata": {},
   "source": [
    "# On importe les données"
   ]
  },
  {
   "cell_type": "code",
   "execution_count": 81,
   "metadata": {},
   "outputs": [
    {
     "data": {
      "text/html": [
       "<div>\n",
       "<style scoped>\n",
       "    .dataframe tbody tr th:only-of-type {\n",
       "        vertical-align: middle;\n",
       "    }\n",
       "\n",
       "    .dataframe tbody tr th {\n",
       "        vertical-align: top;\n",
       "    }\n",
       "\n",
       "    .dataframe thead th {\n",
       "        text-align: right;\n",
       "    }\n",
       "</style>\n",
       "<table border=\"1\" class=\"dataframe\">\n",
       "  <thead>\n",
       "    <tr style=\"text-align: right;\">\n",
       "      <th></th>\n",
       "      <th>Manufacturer</th>\n",
       "      <th>Model</th>\n",
       "      <th>Sales_in_thousands</th>\n",
       "      <th>__year_resale_value</th>\n",
       "      <th>Vehicle_type</th>\n",
       "      <th>Price_in_thousands</th>\n",
       "      <th>Engine_size</th>\n",
       "      <th>Horsepower</th>\n",
       "      <th>Wheelbase</th>\n",
       "      <th>Width</th>\n",
       "      <th>Length</th>\n",
       "      <th>Curb_weight</th>\n",
       "      <th>Fuel_capacity</th>\n",
       "      <th>Fuel_efficiency</th>\n",
       "      <th>Latest_Launch</th>\n",
       "      <th>Power_perf_factor</th>\n",
       "    </tr>\n",
       "  </thead>\n",
       "  <tbody>\n",
       "    <tr>\n",
       "      <th>0</th>\n",
       "      <td>Acura</td>\n",
       "      <td>Integra</td>\n",
       "      <td>16.919</td>\n",
       "      <td>16.360</td>\n",
       "      <td>Passenger</td>\n",
       "      <td>21.50</td>\n",
       "      <td>1.8</td>\n",
       "      <td>140.0</td>\n",
       "      <td>101.2</td>\n",
       "      <td>67.3</td>\n",
       "      <td>172.4</td>\n",
       "      <td>2.639</td>\n",
       "      <td>13.2</td>\n",
       "      <td>28.0</td>\n",
       "      <td>2/2/2012</td>\n",
       "      <td>58.280150</td>\n",
       "    </tr>\n",
       "    <tr>\n",
       "      <th>1</th>\n",
       "      <td>Acura</td>\n",
       "      <td>TL</td>\n",
       "      <td>39.384</td>\n",
       "      <td>19.875</td>\n",
       "      <td>Passenger</td>\n",
       "      <td>28.40</td>\n",
       "      <td>3.2</td>\n",
       "      <td>225.0</td>\n",
       "      <td>108.1</td>\n",
       "      <td>70.3</td>\n",
       "      <td>192.9</td>\n",
       "      <td>3.517</td>\n",
       "      <td>17.2</td>\n",
       "      <td>25.0</td>\n",
       "      <td>6/3/2011</td>\n",
       "      <td>91.370778</td>\n",
       "    </tr>\n",
       "    <tr>\n",
       "      <th>2</th>\n",
       "      <td>Acura</td>\n",
       "      <td>CL</td>\n",
       "      <td>14.114</td>\n",
       "      <td>18.225</td>\n",
       "      <td>Passenger</td>\n",
       "      <td>NaN</td>\n",
       "      <td>3.2</td>\n",
       "      <td>225.0</td>\n",
       "      <td>106.9</td>\n",
       "      <td>70.6</td>\n",
       "      <td>192.0</td>\n",
       "      <td>3.470</td>\n",
       "      <td>17.2</td>\n",
       "      <td>26.0</td>\n",
       "      <td>1/4/2012</td>\n",
       "      <td>NaN</td>\n",
       "    </tr>\n",
       "    <tr>\n",
       "      <th>3</th>\n",
       "      <td>Acura</td>\n",
       "      <td>RL</td>\n",
       "      <td>8.588</td>\n",
       "      <td>29.725</td>\n",
       "      <td>Passenger</td>\n",
       "      <td>42.00</td>\n",
       "      <td>3.5</td>\n",
       "      <td>210.0</td>\n",
       "      <td>114.6</td>\n",
       "      <td>71.4</td>\n",
       "      <td>196.6</td>\n",
       "      <td>3.850</td>\n",
       "      <td>18.0</td>\n",
       "      <td>22.0</td>\n",
       "      <td>3/10/2011</td>\n",
       "      <td>91.389779</td>\n",
       "    </tr>\n",
       "    <tr>\n",
       "      <th>4</th>\n",
       "      <td>Audi</td>\n",
       "      <td>A4</td>\n",
       "      <td>20.397</td>\n",
       "      <td>22.255</td>\n",
       "      <td>Passenger</td>\n",
       "      <td>23.99</td>\n",
       "      <td>1.8</td>\n",
       "      <td>150.0</td>\n",
       "      <td>102.6</td>\n",
       "      <td>68.2</td>\n",
       "      <td>178.0</td>\n",
       "      <td>2.998</td>\n",
       "      <td>16.4</td>\n",
       "      <td>27.0</td>\n",
       "      <td>10/8/2011</td>\n",
       "      <td>62.777639</td>\n",
       "    </tr>\n",
       "  </tbody>\n",
       "</table>\n",
       "</div>"
      ],
      "text/plain": [
       "  Manufacturer    Model  Sales_in_thousands  __year_resale_value Vehicle_type  \\\n",
       "0        Acura  Integra              16.919               16.360    Passenger   \n",
       "1        Acura       TL              39.384               19.875    Passenger   \n",
       "2        Acura       CL              14.114               18.225    Passenger   \n",
       "3        Acura       RL               8.588               29.725    Passenger   \n",
       "4         Audi       A4              20.397               22.255    Passenger   \n",
       "\n",
       "   Price_in_thousands  Engine_size  Horsepower  Wheelbase  Width  Length  \\\n",
       "0               21.50          1.8       140.0      101.2   67.3   172.4   \n",
       "1               28.40          3.2       225.0      108.1   70.3   192.9   \n",
       "2                 NaN          3.2       225.0      106.9   70.6   192.0   \n",
       "3               42.00          3.5       210.0      114.6   71.4   196.6   \n",
       "4               23.99          1.8       150.0      102.6   68.2   178.0   \n",
       "\n",
       "   Curb_weight  Fuel_capacity  Fuel_efficiency Latest_Launch  \\\n",
       "0        2.639           13.2             28.0      2/2/2012   \n",
       "1        3.517           17.2             25.0      6/3/2011   \n",
       "2        3.470           17.2             26.0      1/4/2012   \n",
       "3        3.850           18.0             22.0     3/10/2011   \n",
       "4        2.998           16.4             27.0     10/8/2011   \n",
       "\n",
       "   Power_perf_factor  \n",
       "0          58.280150  \n",
       "1          91.370778  \n",
       "2                NaN  \n",
       "3          91.389779  \n",
       "4          62.777639  "
      ]
     },
     "execution_count": 81,
     "metadata": {},
     "output_type": "execute_result"
    }
   ],
   "source": [
    "data=pd.read_csv(\"../data/car_sales.csv\")\n",
    "data.head()"
   ]
  },
  {
   "cell_type": "markdown",
   "metadata": {},
   "source": [
    "# Test et nettoyage"
   ]
  },
  {
   "cell_type": "code",
   "execution_count": 82,
   "metadata": {},
   "outputs": [
    {
     "name": "stdout",
     "output_type": "stream",
     "text": [
      "<class 'pandas.core.frame.DataFrame'>\n",
      "RangeIndex: 157 entries, 0 to 156\n",
      "Data columns (total 16 columns):\n",
      " #   Column               Non-Null Count  Dtype  \n",
      "---  ------               --------------  -----  \n",
      " 0   Manufacturer         157 non-null    object \n",
      " 1   Model                157 non-null    object \n",
      " 2   Sales_in_thousands   157 non-null    float64\n",
      " 3   __year_resale_value  121 non-null    float64\n",
      " 4   Vehicle_type         157 non-null    object \n",
      " 5   Price_in_thousands   155 non-null    float64\n",
      " 6   Engine_size          156 non-null    float64\n",
      " 7   Horsepower           156 non-null    float64\n",
      " 8   Wheelbase            156 non-null    float64\n",
      " 9   Width                156 non-null    float64\n",
      " 10  Length               156 non-null    float64\n",
      " 11  Curb_weight          155 non-null    float64\n",
      " 12  Fuel_capacity        156 non-null    float64\n",
      " 13  Fuel_efficiency      154 non-null    float64\n",
      " 14  Latest_Launch        157 non-null    object \n",
      " 15  Power_perf_factor    155 non-null    float64\n",
      "dtypes: float64(12), object(4)\n",
      "memory usage: 17.2+ KB\n"
     ]
    }
   ],
   "source": [
    "data.info()"
   ]
  },
  {
   "cell_type": "code",
   "execution_count": 83,
   "metadata": {},
   "outputs": [
    {
     "data": {
      "text/plain": [
       "(157, 16)"
      ]
     },
     "execution_count": 83,
     "metadata": {},
     "output_type": "execute_result"
    }
   ],
   "source": [
    "data.shape"
   ]
  },
  {
   "cell_type": "code",
   "execution_count": 84,
   "metadata": {},
   "outputs": [
    {
     "data": {
      "text/plain": [
       "Manufacturer            0\n",
       "Model                   0\n",
       "Sales_in_thousands      0\n",
       "__year_resale_value    36\n",
       "Vehicle_type            0\n",
       "Price_in_thousands      2\n",
       "Engine_size             1\n",
       "Horsepower              1\n",
       "Wheelbase               1\n",
       "Width                   1\n",
       "Length                  1\n",
       "Curb_weight             2\n",
       "Fuel_capacity           1\n",
       "Fuel_efficiency         3\n",
       "Latest_Launch           0\n",
       "Power_perf_factor       2\n",
       "dtype: int64"
      ]
     },
     "execution_count": 84,
     "metadata": {},
     "output_type": "execute_result"
    }
   ],
   "source": [
    "data.isnull().sum()"
   ]
  },
  {
   "cell_type": "markdown",
   "metadata": {},
   "source": [
    "On supprime les entrées ou le prix est égal à 0 car cela ne suit pas ce que l'on recherche"
   ]
  },
  {
   "cell_type": "code",
   "execution_count": 85,
   "metadata": {},
   "outputs": [
    {
     "data": {
      "text/plain": [
       "(157, 16)"
      ]
     },
     "execution_count": 85,
     "metadata": {},
     "output_type": "execute_result"
    }
   ],
   "source": [
    "data.drop(data[data['Price_in_thousands'] == 0].index, inplace=True)\n",
    "data.shape"
   ]
  },
  {
   "cell_type": "markdown",
   "metadata": {},
   "source": [
    "On supprime tous les na du dataset"
   ]
  },
  {
   "cell_type": "code",
   "execution_count": 86,
   "metadata": {},
   "outputs": [
    {
     "data": {
      "text/plain": [
       "(117, 16)"
      ]
     },
     "execution_count": 86,
     "metadata": {},
     "output_type": "execute_result"
    }
   ],
   "source": [
    "data.dropna(inplace=True,axis=0)\n",
    "data.shape"
   ]
  },
  {
   "cell_type": "code",
   "execution_count": 87,
   "metadata": {},
   "outputs": [
    {
     "data": {
      "text/html": [
       "<div>\n",
       "<style scoped>\n",
       "    .dataframe tbody tr th:only-of-type {\n",
       "        vertical-align: middle;\n",
       "    }\n",
       "\n",
       "    .dataframe tbody tr th {\n",
       "        vertical-align: top;\n",
       "    }\n",
       "\n",
       "    .dataframe thead th {\n",
       "        text-align: right;\n",
       "    }\n",
       "</style>\n",
       "<table border=\"1\" class=\"dataframe\">\n",
       "  <thead>\n",
       "    <tr style=\"text-align: right;\">\n",
       "      <th></th>\n",
       "      <th>Sales_in_thousands</th>\n",
       "      <th>__year_resale_value</th>\n",
       "      <th>Price_in_thousands</th>\n",
       "      <th>Engine_size</th>\n",
       "      <th>Horsepower</th>\n",
       "      <th>Wheelbase</th>\n",
       "      <th>Width</th>\n",
       "      <th>Length</th>\n",
       "      <th>Curb_weight</th>\n",
       "      <th>Fuel_capacity</th>\n",
       "      <th>Fuel_efficiency</th>\n",
       "      <th>Power_perf_factor</th>\n",
       "    </tr>\n",
       "  </thead>\n",
       "  <tbody>\n",
       "    <tr>\n",
       "      <th>count</th>\n",
       "      <td>117.000000</td>\n",
       "      <td>117.000000</td>\n",
       "      <td>117.000000</td>\n",
       "      <td>117.000000</td>\n",
       "      <td>117.000000</td>\n",
       "      <td>117.000000</td>\n",
       "      <td>117.000000</td>\n",
       "      <td>117.000000</td>\n",
       "      <td>117.000000</td>\n",
       "      <td>117.000000</td>\n",
       "      <td>117.000000</td>\n",
       "      <td>117.000000</td>\n",
       "    </tr>\n",
       "    <tr>\n",
       "      <th>mean</th>\n",
       "      <td>59.112316</td>\n",
       "      <td>18.031538</td>\n",
       "      <td>25.969487</td>\n",
       "      <td>3.048718</td>\n",
       "      <td>181.282051</td>\n",
       "      <td>107.326496</td>\n",
       "      <td>71.189744</td>\n",
       "      <td>187.717949</td>\n",
       "      <td>3.324051</td>\n",
       "      <td>17.812821</td>\n",
       "      <td>24.119658</td>\n",
       "      <td>74.930921</td>\n",
       "    </tr>\n",
       "    <tr>\n",
       "      <th>std</th>\n",
       "      <td>75.058933</td>\n",
       "      <td>11.605632</td>\n",
       "      <td>14.149699</td>\n",
       "      <td>1.055169</td>\n",
       "      <td>58.591786</td>\n",
       "      <td>8.050588</td>\n",
       "      <td>3.530151</td>\n",
       "      <td>13.849926</td>\n",
       "      <td>0.597177</td>\n",
       "      <td>3.794609</td>\n",
       "      <td>4.404470</td>\n",
       "      <td>25.771796</td>\n",
       "    </tr>\n",
       "    <tr>\n",
       "      <th>min</th>\n",
       "      <td>0.110000</td>\n",
       "      <td>5.160000</td>\n",
       "      <td>9.235000</td>\n",
       "      <td>1.000000</td>\n",
       "      <td>55.000000</td>\n",
       "      <td>92.600000</td>\n",
       "      <td>62.600000</td>\n",
       "      <td>149.400000</td>\n",
       "      <td>1.895000</td>\n",
       "      <td>10.300000</td>\n",
       "      <td>15.000000</td>\n",
       "      <td>23.276272</td>\n",
       "    </tr>\n",
       "    <tr>\n",
       "      <th>25%</th>\n",
       "      <td>16.767000</td>\n",
       "      <td>11.240000</td>\n",
       "      <td>16.980000</td>\n",
       "      <td>2.200000</td>\n",
       "      <td>140.000000</td>\n",
       "      <td>102.400000</td>\n",
       "      <td>68.500000</td>\n",
       "      <td>177.500000</td>\n",
       "      <td>2.911000</td>\n",
       "      <td>15.300000</td>\n",
       "      <td>22.000000</td>\n",
       "      <td>55.297117</td>\n",
       "    </tr>\n",
       "    <tr>\n",
       "      <th>50%</th>\n",
       "      <td>32.299000</td>\n",
       "      <td>14.010000</td>\n",
       "      <td>21.665000</td>\n",
       "      <td>3.000000</td>\n",
       "      <td>175.000000</td>\n",
       "      <td>107.000000</td>\n",
       "      <td>70.400000</td>\n",
       "      <td>187.800000</td>\n",
       "      <td>3.340000</td>\n",
       "      <td>17.200000</td>\n",
       "      <td>24.000000</td>\n",
       "      <td>70.660942</td>\n",
       "    </tr>\n",
       "    <tr>\n",
       "      <th>75%</th>\n",
       "      <td>76.029000</td>\n",
       "      <td>19.875000</td>\n",
       "      <td>29.465000</td>\n",
       "      <td>3.800000</td>\n",
       "      <td>210.000000</td>\n",
       "      <td>111.600000</td>\n",
       "      <td>73.600000</td>\n",
       "      <td>196.500000</td>\n",
       "      <td>3.823000</td>\n",
       "      <td>19.800000</td>\n",
       "      <td>26.000000</td>\n",
       "      <td>85.828408</td>\n",
       "    </tr>\n",
       "    <tr>\n",
       "      <th>max</th>\n",
       "      <td>540.561000</td>\n",
       "      <td>67.550000</td>\n",
       "      <td>82.600000</td>\n",
       "      <td>8.000000</td>\n",
       "      <td>450.000000</td>\n",
       "      <td>138.700000</td>\n",
       "      <td>79.300000</td>\n",
       "      <td>224.500000</td>\n",
       "      <td>5.115000</td>\n",
       "      <td>32.000000</td>\n",
       "      <td>45.000000</td>\n",
       "      <td>188.144323</td>\n",
       "    </tr>\n",
       "  </tbody>\n",
       "</table>\n",
       "</div>"
      ],
      "text/plain": [
       "       Sales_in_thousands  __year_resale_value  Price_in_thousands  \\\n",
       "count          117.000000           117.000000          117.000000   \n",
       "mean            59.112316            18.031538           25.969487   \n",
       "std             75.058933            11.605632           14.149699   \n",
       "min              0.110000             5.160000            9.235000   \n",
       "25%             16.767000            11.240000           16.980000   \n",
       "50%             32.299000            14.010000           21.665000   \n",
       "75%             76.029000            19.875000           29.465000   \n",
       "max            540.561000            67.550000           82.600000   \n",
       "\n",
       "       Engine_size  Horsepower   Wheelbase       Width      Length  \\\n",
       "count   117.000000  117.000000  117.000000  117.000000  117.000000   \n",
       "mean      3.048718  181.282051  107.326496   71.189744  187.717949   \n",
       "std       1.055169   58.591786    8.050588    3.530151   13.849926   \n",
       "min       1.000000   55.000000   92.600000   62.600000  149.400000   \n",
       "25%       2.200000  140.000000  102.400000   68.500000  177.500000   \n",
       "50%       3.000000  175.000000  107.000000   70.400000  187.800000   \n",
       "75%       3.800000  210.000000  111.600000   73.600000  196.500000   \n",
       "max       8.000000  450.000000  138.700000   79.300000  224.500000   \n",
       "\n",
       "       Curb_weight  Fuel_capacity  Fuel_efficiency  Power_perf_factor  \n",
       "count   117.000000     117.000000       117.000000         117.000000  \n",
       "mean      3.324051      17.812821        24.119658          74.930921  \n",
       "std       0.597177       3.794609         4.404470          25.771796  \n",
       "min       1.895000      10.300000        15.000000          23.276272  \n",
       "25%       2.911000      15.300000        22.000000          55.297117  \n",
       "50%       3.340000      17.200000        24.000000          70.660942  \n",
       "75%       3.823000      19.800000        26.000000          85.828408  \n",
       "max       5.115000      32.000000        45.000000         188.144323  "
      ]
     },
     "execution_count": 87,
     "metadata": {},
     "output_type": "execute_result"
    }
   ],
   "source": [
    "data.describe()"
   ]
  },
  {
   "cell_type": "markdown",
   "metadata": {},
   "source": [
    "On teste si il y a des données en doubles dans la table :"
   ]
  },
  {
   "cell_type": "code",
   "execution_count": 88,
   "metadata": {},
   "outputs": [
    {
     "data": {
      "text/plain": [
       "0"
      ]
     },
     "execution_count": 88,
     "metadata": {},
     "output_type": "execute_result"
    }
   ],
   "source": [
    "data.duplicated().sum()"
   ]
  },
  {
   "cell_type": "markdown",
   "metadata": {},
   "source": [
    "# EDA"
   ]
  },
  {
   "cell_type": "code",
   "execution_count": 89,
   "metadata": {},
   "outputs": [
    {
     "data": {
      "text/plain": [
       "<matplotlib.axes._subplots.AxesSubplot at 0x28e99418>"
      ]
     },
     "execution_count": 89,
     "metadata": {},
     "output_type": "execute_result"
    },
    {
     "data": {
      "image/png": "[encoded data removed]",
      "text/plain": [
       "<Figure size 432x288 with 1 Axes>"
      ]
     },
     "metadata": {
      "needs_background": "light"
     },
     "output_type": "display_data"
    }
   ],
   "source": [
    "sns.boxplot(data=data,orient='h')"
   ]
  },
  {
   "cell_type": "markdown",
   "metadata": {},
   "source": [
    "Ici, on va pouvoir considérer les différentes données abérrantes : plus de 250  (au premier abord) pour les ventes, les données supérieures à 305 pour les chevaux. Il semble ne pas y  avoir de grosses données aberrantes pour le prix, à verifier avec des graphiques plus précis"
   ]
  },
  {
   "cell_type": "code",
   "execution_count": 90,
   "metadata": {
    "scrolled": true
   },
   "outputs": [
    {
     "data": {
      "text/plain": [
       "<matplotlib.axes._subplots.AxesSubplot at 0x28e70418>"
      ]
     },
     "execution_count": 90,
     "metadata": {},
     "output_type": "execute_result"
    },
    {
     "data": {
      "image/png": "[encoded data removed]",
      "text/plain": [
       "<Figure size 432x288 with 1 Axes>"
      ]
     },
     "metadata": {
      "needs_background": "light"
     },
     "output_type": "display_data"
    }
   ],
   "source": [
    "sns.boxplot(x=data['Sales_in_thousands'])"
   ]
  },
  {
   "cell_type": "code",
   "execution_count": 91,
   "metadata": {},
   "outputs": [
    {
     "data": {
      "text/plain": [
       "<bound method NDFrame.describe of 0      16.919\n",
       "1      39.384\n",
       "3       8.588\n",
       "4      20.397\n",
       "5      18.780\n",
       "        ...  \n",
       "145     9.761\n",
       "146    83.721\n",
       "147    51.102\n",
       "148     9.569\n",
       "149     5.596\n",
       "Name: Sales_in_thousands, Length: 117, dtype: float64>"
      ]
     },
     "execution_count": 91,
     "metadata": {},
     "output_type": "execute_result"
    }
   ],
   "source": [
    "data['Sales_in_thousands'].describe"
   ]
  },
  {
   "cell_type": "code",
   "execution_count": 92,
   "metadata": {},
   "outputs": [
    {
     "data": {
      "text/plain": [
       "<matplotlib.axes._subplots.AxesSubplot at 0x28e56850>"
      ]
     },
     "execution_count": 92,
     "metadata": {},
     "output_type": "execute_result"
    },
    {
     "data": {
      "image/png": "[encoded data removed]",
      "text/plain": [
       "<Figure size 432x288 with 1 Axes>"
      ]
     },
     "metadata": {
      "needs_background": "light"
     },
     "output_type": "display_data"
    }
   ],
   "source": [
    "sns.boxplot(x=data['Horsepower'])"
   ]
  },
  {
   "cell_type": "code",
   "execution_count": 95,
   "metadata": {},
   "outputs": [
    {
     "data": {
      "text/plain": [
       "<matplotlib.axes._subplots.AxesSubplot at 0x290ddd60>"
      ]
     },
     "execution_count": 95,
     "metadata": {},
     "output_type": "execute_result"
    },
    {
     "data": {
      "image/png": "[encoded data removed]",
      "text/plain": [
       "<Figure size 432x288 with 1 Axes>"
      ]
     },
     "metadata": {
      "needs_background": "light"
     },
     "output_type": "display_data"
    }
   ],
   "source": [
    "sns.boxplot(x=data['Price_in_thousands'])"
   ]
  },
  {
   "cell_type": "code",
   "execution_count": 96,
   "metadata": {},
   "outputs": [
    {
     "data": {
      "text/plain": [
       "(114, 16)"
      ]
     },
     "execution_count": 96,
     "metadata": {},
     "output_type": "execute_result"
    }
   ],
   "source": [
    "data.drop(data[data['Horsepower'] >= 305].index,inplace=True)\n",
    "data.shape"
   ]
  },
  {
   "cell_type": "code",
   "execution_count": 97,
   "metadata": {},
   "outputs": [
    {
     "data": {
      "text/plain": [
       "(103, 16)"
      ]
     },
     "execution_count": 97,
     "metadata": {},
     "output_type": "execute_result"
    }
   ],
   "source": [
    "data.drop(data[data['Sales_in_thousands'] >= 150].index,inplace=True)\n",
    "data.shape"
   ]
  },
  {
   "cell_type": "code",
   "execution_count": 99,
   "metadata": {},
   "outputs": [
    {
     "data": {
      "text/plain": [
       "(96, 16)"
      ]
     },
     "execution_count": 99,
     "metadata": {},
     "output_type": "execute_result"
    }
   ],
   "source": [
    "data.drop(data[data['Price_in_thousands'] >= 45].index,inplace=True)\n",
    "data.shape"
   ]
  },
  {
   "cell_type": "markdown",
   "metadata": {},
   "source": [
    "On traite les données aberrantes grace à l'interquartile ou IQR"
   ]
  },
  {
   "cell_type": "code",
   "execution_count": 100,
   "metadata": {},
   "outputs": [
    {
     "name": "stdout",
     "output_type": "stream",
     "text": [
      "Sales_in_thousands     49.633000\n",
      "__year_resale_value     7.480000\n",
      "Price_in_thousands     10.008750\n",
      "Engine_size             1.500000\n",
      "Horsepower             62.000000\n",
      "Wheelbase               7.350000\n",
      "Width                   4.725000\n",
      "Length                 17.325000\n",
      "Curb_weight             0.717750\n",
      "Fuel_capacity           3.550000\n",
      "Fuel_efficiency         5.000000\n",
      "Power_perf_factor      29.347996\n",
      "dtype: float64\n"
     ]
    }
   ],
   "source": [
    "Q1 = data.quantile(0.25)\n",
    "Q3 = data.quantile(0.75)\n",
    "IQR = Q3 - Q1\n",
    "print(IQR)"
   ]
  },
  {
   "cell_type": "code",
   "execution_count": 101,
   "metadata": {},
   "outputs": [
    {
     "data": {
      "text/plain": [
       "(82, 16)"
      ]
     },
     "execution_count": 101,
     "metadata": {},
     "output_type": "execute_result"
    }
   ],
   "source": [
    "data = data[~((data < (Q1 - 1.5*IQR))|(data > (Q3 + 1.5*IQR))).any(axis = 1)]\n",
    "data.shape"
   ]
  },
  {
   "cell_type": "code",
   "execution_count": 102,
   "metadata": {},
   "outputs": [
    {
     "data": {
      "text/html": [
       "<div>\n",
       "<style scoped>\n",
       "    .dataframe tbody tr th:only-of-type {\n",
       "        vertical-align: middle;\n",
       "    }\n",
       "\n",
       "    .dataframe tbody tr th {\n",
       "        vertical-align: top;\n",
       "    }\n",
       "\n",
       "    .dataframe thead th {\n",
       "        text-align: right;\n",
       "    }\n",
       "</style>\n",
       "<table border=\"1\" class=\"dataframe\">\n",
       "  <thead>\n",
       "    <tr style=\"text-align: right;\">\n",
       "      <th></th>\n",
       "      <th>Sales_in_thousands</th>\n",
       "      <th>__year_resale_value</th>\n",
       "      <th>Price_in_thousands</th>\n",
       "      <th>Engine_size</th>\n",
       "      <th>Horsepower</th>\n",
       "      <th>Wheelbase</th>\n",
       "      <th>Width</th>\n",
       "      <th>Length</th>\n",
       "      <th>Curb_weight</th>\n",
       "      <th>Fuel_capacity</th>\n",
       "      <th>Fuel_efficiency</th>\n",
       "      <th>Power_perf_factor</th>\n",
       "    </tr>\n",
       "  </thead>\n",
       "  <tbody>\n",
       "    <tr>\n",
       "      <th>Sales_in_thousands</th>\n",
       "      <td>1.000000</td>\n",
       "      <td>-0.292368</td>\n",
       "      <td>-0.225601</td>\n",
       "      <td>0.117152</td>\n",
       "      <td>-0.030152</td>\n",
       "      <td>0.070554</td>\n",
       "      <td>0.037536</td>\n",
       "      <td>0.033948</td>\n",
       "      <td>-0.040690</td>\n",
       "      <td>-0.075557</td>\n",
       "      <td>0.016200</td>\n",
       "      <td>-0.058767</td>\n",
       "    </tr>\n",
       "    <tr>\n",
       "      <th>__year_resale_value</th>\n",
       "      <td>-0.292368</td>\n",
       "      <td>1.000000</td>\n",
       "      <td>0.862538</td>\n",
       "      <td>0.440549</td>\n",
       "      <td>0.626383</td>\n",
       "      <td>0.315569</td>\n",
       "      <td>0.241253</td>\n",
       "      <td>0.270791</td>\n",
       "      <td>0.607737</td>\n",
       "      <td>0.582512</td>\n",
       "      <td>-0.484207</td>\n",
       "      <td>0.672325</td>\n",
       "    </tr>\n",
       "    <tr>\n",
       "      <th>Price_in_thousands</th>\n",
       "      <td>-0.225601</td>\n",
       "      <td>0.862538</td>\n",
       "      <td>1.000000</td>\n",
       "      <td>0.704857</td>\n",
       "      <td>0.866415</td>\n",
       "      <td>0.535186</td>\n",
       "      <td>0.473469</td>\n",
       "      <td>0.556247</td>\n",
       "      <td>0.796889</td>\n",
       "      <td>0.691266</td>\n",
       "      <td>-0.598376</td>\n",
       "      <td>0.901656</td>\n",
       "    </tr>\n",
       "    <tr>\n",
       "      <th>Engine_size</th>\n",
       "      <td>0.117152</td>\n",
       "      <td>0.440549</td>\n",
       "      <td>0.704857</td>\n",
       "      <td>1.000000</td>\n",
       "      <td>0.845667</td>\n",
       "      <td>0.619124</td>\n",
       "      <td>0.665231</td>\n",
       "      <td>0.706569</td>\n",
       "      <td>0.834029</td>\n",
       "      <td>0.708660</td>\n",
       "      <td>-0.687263</td>\n",
       "      <td>0.842504</td>\n",
       "    </tr>\n",
       "    <tr>\n",
       "      <th>Horsepower</th>\n",
       "      <td>-0.030152</td>\n",
       "      <td>0.626383</td>\n",
       "      <td>0.866415</td>\n",
       "      <td>0.845667</td>\n",
       "      <td>1.000000</td>\n",
       "      <td>0.663820</td>\n",
       "      <td>0.616721</td>\n",
       "      <td>0.738472</td>\n",
       "      <td>0.794013</td>\n",
       "      <td>0.694491</td>\n",
       "      <td>-0.592281</td>\n",
       "      <td>0.997118</td>\n",
       "    </tr>\n",
       "    <tr>\n",
       "      <th>Wheelbase</th>\n",
       "      <td>0.070554</td>\n",
       "      <td>0.315569</td>\n",
       "      <td>0.535186</td>\n",
       "      <td>0.619124</td>\n",
       "      <td>0.663820</td>\n",
       "      <td>1.000000</td>\n",
       "      <td>0.719137</td>\n",
       "      <td>0.842921</td>\n",
       "      <td>0.734655</td>\n",
       "      <td>0.568134</td>\n",
       "      <td>-0.386539</td>\n",
       "      <td>0.656519</td>\n",
       "    </tr>\n",
       "    <tr>\n",
       "      <th>Width</th>\n",
       "      <td>0.037536</td>\n",
       "      <td>0.241253</td>\n",
       "      <td>0.473469</td>\n",
       "      <td>0.665231</td>\n",
       "      <td>0.616721</td>\n",
       "      <td>0.719137</td>\n",
       "      <td>1.000000</td>\n",
       "      <td>0.747234</td>\n",
       "      <td>0.681203</td>\n",
       "      <td>0.544545</td>\n",
       "      <td>-0.402502</td>\n",
       "      <td>0.607426</td>\n",
       "    </tr>\n",
       "    <tr>\n",
       "      <th>Length</th>\n",
       "      <td>0.033948</td>\n",
       "      <td>0.270791</td>\n",
       "      <td>0.556247</td>\n",
       "      <td>0.706569</td>\n",
       "      <td>0.738472</td>\n",
       "      <td>0.842921</td>\n",
       "      <td>0.747234</td>\n",
       "      <td>1.000000</td>\n",
       "      <td>0.686235</td>\n",
       "      <td>0.495241</td>\n",
       "      <td>-0.319242</td>\n",
       "      <td>0.724594</td>\n",
       "    </tr>\n",
       "    <tr>\n",
       "      <th>Curb_weight</th>\n",
       "      <td>-0.040690</td>\n",
       "      <td>0.607737</td>\n",
       "      <td>0.796889</td>\n",
       "      <td>0.834029</td>\n",
       "      <td>0.794013</td>\n",
       "      <td>0.734655</td>\n",
       "      <td>0.681203</td>\n",
       "      <td>0.686235</td>\n",
       "      <td>1.000000</td>\n",
       "      <td>0.866863</td>\n",
       "      <td>-0.788176</td>\n",
       "      <td>0.810377</td>\n",
       "    </tr>\n",
       "    <tr>\n",
       "      <th>Fuel_capacity</th>\n",
       "      <td>-0.075557</td>\n",
       "      <td>0.582512</td>\n",
       "      <td>0.691266</td>\n",
       "      <td>0.708660</td>\n",
       "      <td>0.694491</td>\n",
       "      <td>0.568134</td>\n",
       "      <td>0.544545</td>\n",
       "      <td>0.495241</td>\n",
       "      <td>0.866863</td>\n",
       "      <td>1.000000</td>\n",
       "      <td>-0.846422</td>\n",
       "      <td>0.707670</td>\n",
       "    </tr>\n",
       "    <tr>\n",
       "      <th>Fuel_efficiency</th>\n",
       "      <td>0.016200</td>\n",
       "      <td>-0.484207</td>\n",
       "      <td>-0.598376</td>\n",
       "      <td>-0.687263</td>\n",
       "      <td>-0.592281</td>\n",
       "      <td>-0.386539</td>\n",
       "      <td>-0.402502</td>\n",
       "      <td>-0.319242</td>\n",
       "      <td>-0.788176</td>\n",
       "      <td>-0.846422</td>\n",
       "      <td>1.000000</td>\n",
       "      <td>-0.605898</td>\n",
       "    </tr>\n",
       "    <tr>\n",
       "      <th>Power_perf_factor</th>\n",
       "      <td>-0.058767</td>\n",
       "      <td>0.672325</td>\n",
       "      <td>0.901656</td>\n",
       "      <td>0.842504</td>\n",
       "      <td>0.997118</td>\n",
       "      <td>0.656519</td>\n",
       "      <td>0.607426</td>\n",
       "      <td>0.724594</td>\n",
       "      <td>0.810377</td>\n",
       "      <td>0.707670</td>\n",
       "      <td>-0.605898</td>\n",
       "      <td>1.000000</td>\n",
       "    </tr>\n",
       "  </tbody>\n",
       "</table>\n",
       "</div>"
      ],
      "text/plain": [
       "                     Sales_in_thousands  __year_resale_value  \\\n",
       "Sales_in_thousands             1.000000            -0.292368   \n",
       "__year_resale_value           -0.292368             1.000000   \n",
       "Price_in_thousands            -0.225601             0.862538   \n",
       "Engine_size                    0.117152             0.440549   \n",
       "Horsepower                    -0.030152             0.626383   \n",
       "Wheelbase                      0.070554             0.315569   \n",
       "Width                          0.037536             0.241253   \n",
       "Length                         0.033948             0.270791   \n",
       "Curb_weight                   -0.040690             0.607737   \n",
       "Fuel_capacity                 -0.075557             0.582512   \n",
       "Fuel_efficiency                0.016200            -0.484207   \n",
       "Power_perf_factor             -0.058767             0.672325   \n",
       "\n",
       "                     Price_in_thousands  Engine_size  Horsepower  Wheelbase  \\\n",
       "Sales_in_thousands            -0.225601     0.117152   -0.030152   0.070554   \n",
       "__year_resale_value            0.862538     0.440549    0.626383   0.315569   \n",
       "Price_in_thousands             1.000000     0.704857    0.866415   0.535186   \n",
       "Engine_size                    0.704857     1.000000    0.845667   0.619124   \n",
       "Horsepower                     0.866415     0.845667    1.000000   0.663820   \n",
       "Wheelbase                      0.535186     0.619124    0.663820   1.000000   \n",
       "Width                          0.473469     0.665231    0.616721   0.719137   \n",
       "Length                         0.556247     0.706569    0.738472   0.842921   \n",
       "Curb_weight                    0.796889     0.834029    0.794013   0.734655   \n",
       "Fuel_capacity                  0.691266     0.708660    0.694491   0.568134   \n",
       "Fuel_efficiency               -0.598376    -0.687263   -0.592281  -0.386539   \n",
       "Power_perf_factor              0.901656     0.842504    0.997118   0.656519   \n",
       "\n",
       "                        Width    Length  Curb_weight  Fuel_capacity  \\\n",
       "Sales_in_thousands   0.037536  0.033948    -0.040690      -0.075557   \n",
       "__year_resale_value  0.241253  0.270791     0.607737       0.582512   \n",
       "Price_in_thousands   0.473469  0.556247     0.796889       0.691266   \n",
       "Engine_size          0.665231  0.706569     0.834029       0.708660   \n",
       "Horsepower           0.616721  0.738472     0.794013       0.694491   \n",
       "Wheelbase            0.719137  0.842921     0.734655       0.568134   \n",
       "Width                1.000000  0.747234     0.681203       0.544545   \n",
       "Length               0.747234  1.000000     0.686235       0.495241   \n",
       "Curb_weight          0.681203  0.686235     1.000000       0.866863   \n",
       "Fuel_capacity        0.544545  0.495241     0.866863       1.000000   \n",
       "Fuel_efficiency     -0.402502 -0.319242    -0.788176      -0.846422   \n",
       "Power_perf_factor    0.607426  0.724594     0.810377       0.707670   \n",
       "\n",
       "                     Fuel_efficiency  Power_perf_factor  \n",
       "Sales_in_thousands          0.016200          -0.058767  \n",
       "__year_resale_value        -0.484207           0.672325  \n",
       "Price_in_thousands         -0.598376           0.901656  \n",
       "Engine_size                -0.687263           0.842504  \n",
       "Horsepower                 -0.592281           0.997118  \n",
       "Wheelbase                  -0.386539           0.656519  \n",
       "Width                      -0.402502           0.607426  \n",
       "Length                     -0.319242           0.724594  \n",
       "Curb_weight                -0.788176           0.810377  \n",
       "Fuel_capacity              -0.846422           0.707670  \n",
       "Fuel_efficiency             1.000000          -0.605898  \n",
       "Power_perf_factor          -0.605898           1.000000  "
      ]
     },
     "execution_count": 102,
     "metadata": {},
     "output_type": "execute_result"
    }
   ],
   "source": [
    "data.corr()"
   ]
  },
  {
   "cell_type": "code",
   "execution_count": 105,
   "metadata": {},
   "outputs": [
    {
     "data": {
      "image/png": "[encoded data removed]",
      "text/plain": [
       "<Figure size 864x504 with 2 Axes>"
      ]
     },
     "metadata": {
      "needs_background": "light"
     },
     "output_type": "display_data"
    }
   ],
   "source": [
    "data_corr=data.corr()\n",
    "f,ax=plt.subplots(figsize=(12,7))\n",
    "sns.heatmap(data_corr,cmap='Blues',annot=True)\n",
    "plt.title(\"Correlation entre les variables\",weight='bold',fontsize=15)\n",
    "plt.show()"
   ]
  },
  {
   "cell_type": "markdown",
   "metadata": {},
   "source": [
    "On ne retrouve pas de corrélation positive entre le prix et les ventes. Les ventes ont l'air de ne pas avoir de veritables facteurs corrélés, peut-être que les données abberrantes auraient pu permettre d'en degager un. A contrario, le prix est très corrélé aux chevaux et à la performance en puissance de la voiture, ainsi qu'à la taille du moteur. Il pourrait donc être intéressant de regarder avec un diagramme le prix par rapport aux chevaux du vehicule."
   ]
  },
  {
   "cell_type": "code",
   "execution_count": 116,
   "metadata": {},
   "outputs": [
    {
     "data": {
      "text/plain": [
       "15 - 30    56\n",
       "0 - 15     15\n",
       "30 - 45    11\n",
       "Name: echelle_de_prix, dtype: int64"
      ]
     },
     "execution_count": 116,
     "metadata": {},
     "output_type": "execute_result"
    }
   ],
   "source": [
    "def getrange(Price):\n",
    "    if (Price >= 0 and Price < 15):\n",
    "        return '0 - 15'\n",
    "    if (Price >= 15 and Price < 30):\n",
    "        return '15 - 30'\n",
    "    if (Price >= 30 and Price < 45):\n",
    "        return '30 - 45'\n",
    "\n",
    "       \n",
    "data['echelle_de_prix'] = data.apply(lambda x:getrange(x['Price_in_thousands']),axis = 1)\n",
    "\n",
    "data['echelle_de_prix'].value_counts()\n",
    "def getrangeh(Horsepower):\n",
    "    if (Horsepower >= 92 and Horsepower < 127):\n",
    "        return '92 - 127'\n",
    "    if (Horsepower >= 127 and Horsepower < 162):\n",
    "        return '127 - 162'\n",
    "    if (Horsepower >= 162 and Horsepower < 197):\n",
    "        return '162 - 197'\n",
    "    if (Horsepower >= 197 and Horsepower < 276):\n",
    "        return '197 - 276'\n",
    "\n",
    "       \n",
    "\n",
    "data['echelle_de_prix'].value_counts()       \n"
   ]
  },
  {
   "cell_type": "code",
   "execution_count": 111,
   "metadata": {},
   "outputs": [
    {
     "data": {
      "text/plain": [
       "197 - 276    25\n",
       "127 - 162    22\n",
       "162 - 197    20\n",
       "92 - 127     15\n",
       "Name: echelle_de_chevaux, dtype: int64"
      ]
     },
     "execution_count": 111,
     "metadata": {},
     "output_type": "execute_result"
    }
   ],
   "source": [
    "data['echelle_de_chevaux'] = data.apply(lambda x:getrangeh(x['Horsepower']),axis = 1)\n",
    "\n",
    "data['echelle_de_chevaux'].value_counts()"
   ]
  },
  {
   "cell_type": "code",
   "execution_count": null,
   "metadata": {},
   "outputs": [],
   "source": []
  },
  {
   "cell_type": "code",
   "execution_count": 112,
   "metadata": {},
   "outputs": [
    {
     "data": {
      "image/png": "[encoded data removed]",
      "text/plain": [
       "<Figure size 1080x648 with 1 Axes>"
      ]
     },
     "metadata": {
      "needs_background": "light"
     },
     "output_type": "display_data"
    }
   ],
   "source": [
    "plt.rcParams['figure.figsize'] = (15,9)\n",
    "\n",
    "x = pd.crosstab(data['echelle_de_prix'],data['echelle_de_chevaux'])\n",
    "color = plt.cm.copper(np.linspace(0,1,9))\n",
    "x.div(x.sum(1).astype(float),axis = 0).plot(kind = 'bar',stacked = True ,color=color)\n",
    "plt.title(\"Prix en fonction des chevaux\",fontweight = 21,fontsize = 15)\n",
    "plt.show()"
   ]
  },
  {
   "cell_type": "markdown",
   "metadata": {},
   "source": [
    "On peut voir que les vehicules appartenant à la catégorie \"coutant entre 15 et 30k $\" sont celles pouvant être des 4 catégories de chevaux. On Remarque aussi que la catégorie de prix la plus basse contient des vehicules à faible capacités de chevaux seulement, et l'inverse est remarqué dans la catégorie de prix la plus haute."
   ]
  },
  {
   "cell_type": "code",
   "execution_count": 113,
   "metadata": {},
   "outputs": [
    {
     "data": {
      "image/png": "[encoded data removed]",
      "text/plain": [
       "<Figure size 1080x648 with 1 Axes>"
      ]
     },
     "metadata": {
      "needs_background": "light"
     },
     "output_type": "display_data"
    }
   ],
   "source": [
    "plt.rcParams['figure.figsize'] = (15,9)\n",
    "\n",
    "x = pd.crosstab(data['echelle_de_prix'],data['Horsepower'])\n",
    "color = plt.cm.copper(np.linspace(0,1,9))\n",
    "x.div(x.sum(1).astype(float),axis = 0).plot(kind = 'bar',stacked = True ,color=color)\n",
    "plt.title(\"Prix en fonction des chevaux\",fontweight = 21,fontsize = 15)\n",
    "plt.show()"
   ]
  },
  {
   "cell_type": "markdown",
   "metadata": {},
   "source": [
    "Voici la version détaillé des prix par la puissance en chevaux, pas vraiment lisible d'ou l'interêt de les avoir catégorisé sur le graphique plus haut."
   ]
  },
  {
   "cell_type": "code",
   "execution_count": null,
   "metadata": {},
   "outputs": [],
   "source": []
  }
 ],
 "metadata": {
  "kernelspec": {
   "display_name": "Python 3",
   "language": "python",
   "name": "python3"
  },
  "language_info": {
   "codemirror_mode": {
    "name": "ipython",
    "version": 3
   },
   "file_extension": ".py",
   "mimetype": "text/x-python",
   "name": "python",
   "nbconvert_exporter": "python",
   "pygments_lexer": "ipython3",
   "version": "3.8.1"
  }
 },
 "nbformat": 4,
 "nbformat_minor": 4
}
